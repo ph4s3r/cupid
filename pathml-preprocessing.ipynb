{
 "cells": [
  {
   "cell_type": "code",
   "execution_count": 1,
   "id": "cb974153-f68c-4af6-97b6-41965ef02f8e",
   "metadata": {},
   "outputs": [],
   "source": [
    "##########################################################################################################\n",
    "# Author: Mihaly Sulyok & Peter Karacsonyi                                                               #\n",
    "# Last updated: 2023 Dec 4                                                                               #\n",
    "# This workbook does wsi preprocessing with Pathml version 2.1.1                                         #\n",
    "# Input: wsi image files, tested with OpenSlide .tif                                                     #\n",
    "# Transformations: MedianBlur, BinaryThreshold, Tiling, MorphOpen, MorphClose, ForegroundDetection       #\n",
    "# Read more on transformations: https://pathml.readthedocs.io/en/latest/examples/link_gallery.html       #\n",
    "# Output: h5path files (https://pathml.readthedocs.io/en/latest/h5path.html)                             #\n",
    "##########################################################################################################"
   ]
  },
  {
   "cell_type": "code",
   "execution_count": 10,
   "id": "80628cee-8831-49a5-baab-f5f13b7a8339",
   "metadata": {},
   "outputs": [],
   "source": [
    "import os\n",
    "if os.name == 'nt':\n",
    "    import openslideimport #on windows, openslide needs to be installed manually, check local openslideimport.py\n",
    "\n",
    "# global imports\n",
    "import time\n",
    "from pathlib import Path\n",
    "import matplotlib.pyplot as plt\n",
    "import numpy as np\n",
    "\n",
    "# pathml imports\n",
    "from pathml import types\n",
    "from pathml.core import SlideData, SlideDataset\n",
    "from pathml.preprocessing import Pipeline, MedianBlur, MorphOpen, MorphClose, BinaryThreshold, ForegroundDetection\n"
   ]
  },
  {
   "cell_type": "code",
   "execution_count": 11,
   "id": "b868d94c-07fb-4cb5-8740-98f05d116beb",
   "metadata": {},
   "outputs": [],
   "source": [
    "# set working directory\n",
    "base_dir = Path(\"G:\\echino\")\n",
    "# base_dir = Path(\"/mnt/g/placenta/\")\n",
    "# wsi folder\n",
    "wsi_subfolder = \"wsi\"\n",
    "# place geojsons into this folder inside base with same name as the image (echino23.tiff / echino38.gejson)\n",
    "annotations_subfolder = \"wsiannotation-dumps\"\n",
    "# output h5path files to\n",
    "h5path_subfolder = \"h5\"\n",
    "# filenames having this substring without endpoint / have no annotation (normal23.tiff)\n",
    "normal_filename = \"norm\""
   ]
  },
  {
   "cell_type": "code",
   "execution_count": 12,
   "id": "682b372d-294f-450f-a4ec-7182ebc677ea",
   "metadata": {},
   "outputs": [],
   "source": [
    "# relative directory generation (don't modify)\n",
    "data_dir = base_dir / Path(wsi_subfolder)                       # input\n",
    "annotations_subfolder = base_dir / Path(annotations_subfolder)  # input : need to pre-generate with annotation_batch_reader\n",
    "h5_dir = base_dir / Path(h5path_subfolder)                      # output\n",
    "\n",
    "# read wsi files\n",
    "wsi_paths = list(data_dir.glob(\"*.tif\"))\n",
    "\n",
    "# build list of SlideData objects, label with output class, add annotation\n",
    "wsi_list = []\n",
    "for wsi in wsi_paths:\n",
    "    annotation_mask = None\n",
    "    # label preparation based on filename\n",
    "    if normal_filename in wsi.name.lower():\n",
    "        label = {[(\"class\", \"normal\")]}\n",
    "    else: \n",
    "        label = {[(\"class\", \"echino\")]}\n",
    "        try: \n",
    "            annotation_mask = np.load(f\"{Path( annotations_subfolder / wsi.stem )}.npy\", allow_pickle=True)\n",
    "        except Exception as e:\n",
    "            print(f\"Annotation mask could not be loaded for {wsi.stem}, error: {e}\")\n",
    "            pass\n",
    "\n",
    "    # adding annotation as a mask if present (better not add empty mask)\n",
    "    if annotation_mask is not None:\n",
    "        wsi_list.append(\n",
    "            SlideData(\n",
    "                wsi.as_posix(), \n",
    "                name = wsi.as_posix(), \n",
    "                backend = \"openslide\", \n",
    "                slide_type = types.HE,\n",
    "                labels = label,\n",
    "                masks = {\"tumor\": annotation_mask}\n",
    "            )\n",
    "        )\n",
    "        print(f\"annotation mask successfully appended\")\n",
    "    else:\n",
    "        wsi_list.append(\n",
    "            SlideData(\n",
    "                wsi.as_posix(), \n",
    "                name = wsi.as_posix(), \n",
    "                backend = \"openslide\", \n",
    "                slide_type = types.HE,\n",
    "                labels = label\n",
    "            )\n",
    "        )\n",
    "\n",
    "del annotation_mask\n",
    "\n",
    "# initialize a SlideDataset Object\n",
    "slide_dataset = SlideDataset(wsi_list)"
   ]
  },
  {
   "cell_type": "code",
   "execution_count": 13,
   "id": "923886d9-c898-4f32-929d-29af0a1d6db8",
   "metadata": {},
   "outputs": [
    {
     "name": "stdout",
     "output_type": "stream",
     "text": [
      "Read 0 wsi images: \n"
     ]
    }
   ],
   "source": [
    "# Draw the images\n",
    "print(f\"Read {len(slide_dataset)} wsi images: \")\n",
    "for slide in slide_dataset:\n",
    "    _, axs = plt.subplots(figsize=(2, 2))\n",
    "    slide.plot(ax=axs)\n",
    "    axs.set_title(label=slide.name, fontsize=8)"
   ]
  },
  {
   "cell_type": "code",
   "execution_count": 6,
   "id": "d272ba5c-ab8a-4df4-befc-4639ba6cf0aa",
   "metadata": {},
   "outputs": [],
   "source": [
    "# define preprocessing pipeline\n",
    "pipeline = Pipeline([\n",
    "    MedianBlur(kernel_size=5), # default 5\n",
    "    BinaryThreshold(mask_name=\"tissue\", use_otsu=True),\n",
    "    MorphOpen(mask_name=\"tissue\", kernel_size=5, n_iterations=1),\n",
    "    MorphClose(mask_name=\"tissue\", kernel_size=5, n_iterations=1),\n",
    "    ForegroundDetection(mask_name=\"tissue\", min_region_size=500, max_hole_size=1500, outer_contours_only=True)\n",
    "])"
   ]
  },
  {
   "cell_type": "code",
   "execution_count": 7,
   "id": "b6bab56e-8199-48f9-b27c-2fbbf557f836",
   "metadata": {},
   "outputs": [
    {
     "name": "stdout",
     "output_type": "stream",
     "text": [
      "Total number of tiles extracted: 388940\n",
      "Writing 46 h5path images to G:\\echinov3\\h5: \n",
      "G:\\echinov3\\h5\\echino13.tif.h5path\n",
      "G:\\echinov3\\h5\\echino14.tif.h5path\n",
      "G:\\echinov3\\h5\\echino15.tif.h5path\n",
      "G:\\echinov3\\h5\\echino16.tif.h5path\n",
      "G:\\echinov3\\h5\\echino17.tif.h5path\n",
      "G:\\echinov3\\h5\\echino19.tif.h5path\n",
      "G:\\echinov3\\h5\\echino21.tif.h5path\n",
      "G:\\echinov3\\h5\\echino23.tif.h5path\n",
      "G:\\echinov3\\h5\\echino24.tif.h5path\n",
      "G:\\echinov3\\h5\\echino25.tif.h5path\n",
      "G:\\echinov3\\h5\\echino26.tif.h5path\n",
      "G:\\echinov3\\h5\\echino27.tif.h5path\n",
      "G:\\echinov3\\h5\\echino28.tif.h5path\n",
      "G:\\echinov3\\h5\\echino29.tif.h5path\n",
      "G:\\echinov3\\h5\\echino3.tif.h5path\n",
      "G:\\echinov3\\h5\\echino30.tif.h5path\n",
      "G:\\echinov3\\h5\\echino31.tif.h5path\n",
      "G:\\echinov3\\h5\\echino32.tif.h5path\n",
      "G:\\echinov3\\h5\\echino35.tif.h5path\n",
      "G:\\echinov3\\h5\\echino39.tif.h5path\n",
      "G:\\echinov3\\h5\\echino40.tif.h5path\n",
      "G:\\echinov3\\h5\\echino41.tif.h5path\n",
      "G:\\echinov3\\h5\\echino42.tif.h5path\n",
      "G:\\echinov3\\h5\\echino50.tif.h5path\n",
      "G:\\echinov3\\h5\\echino51.tif.h5path\n",
      "G:\\echinov3\\h5\\echino61.tif.h5path\n",
      "G:\\echinov3\\h5\\echino62.tif.h5path\n",
      "G:\\echinov3\\h5\\echino8.tif.h5path\n",
      "G:\\echinov3\\h5\\norm12.tif.h5path\n",
      "G:\\echinov3\\h5\\Norm20.tif.h5path\n",
      "G:\\echinov3\\h5\\Norm21.tif.h5path\n",
      "G:\\echinov3\\h5\\Norm23.tif.h5path\n",
      "G:\\echinov3\\h5\\norm25.tif.h5path\n",
      "G:\\echinov3\\h5\\norm26.tif.h5path\n",
      "G:\\echinov3\\h5\\normal1.tif.h5path\n",
      "G:\\echinov3\\h5\\normal10.tif.h5path\n",
      "G:\\echinov3\\h5\\normal14.tif.h5path\n",
      "G:\\echinov3\\h5\\normal2.tif.h5path\n",
      "G:\\echinov3\\h5\\normal3.tif.h5path\n",
      "G:\\echinov3\\h5\\normal5.tif.h5path\n",
      "G:\\echinov3\\h5\\normal6.tif.h5path\n",
      "G:\\echinov3\\h5\\normal7.tif.h5path\n",
      "G:\\echinov3\\h5\\normal9.tif.h5path\n",
      "G:\\echinov3\\h5\\Normalliver16.tif.h5path\n",
      "G:\\echinov3\\h5\\Normalliver19.tif.h5path\n",
      "G:\\echinov3\\h5\\Normalliver20.tif.h5path\n",
      "Preprocessing completed in 310m 9s\n"
     ]
    }
   ],
   "source": [
    "# run preprocessing pipeline\n",
    "start_time = time.time()\n",
    "slide_dataset.run(\n",
    "    pipeline,\n",
    "    distributed=False, # distributed processing always crashes / memleak on wsl. on windows it throws OpenSlide DLL not found error\n",
    "    # client = client, # distributed processing client\n",
    "    tile_size=500, # https://www.sciencedirect.com/science/article/pii/S2352914822000053\n",
    "    overwrite_existing_tiles=True,\n",
    "    write_dir=str(h5_dir), # The write_dir is buggy: places h5path files to where images were, so I move them to another dir...\n",
    ")\n",
    "\n",
    "# counting extracted tiles:\n",
    "total_tiles = 0\n",
    "for slide in slide_dataset.slides:\n",
    "    total_tiles = total_tiles + len(slide.tiles.keys)\n",
    "\n",
    "print(f\"Total number of tiles extracted: {total_tiles}\")\n",
    "\n",
    "# move h5path files from wsi dir to a new dir\n",
    "h5_dir.mkdir(0o644, parents=True, exist_ok=True)\n",
    "h5_paths = list(data_dir.glob(\"*.h5path\"))\n",
    "print(f\"Writing {len(h5_paths)} h5path images to {str(h5_dir)}: \")\n",
    "for h5file in h5_paths:\n",
    "    h5file.replace(h5_dir/h5file.name)\n",
    "    print(h5_dir/h5file.name)\n",
    "\n",
    "time_elapsed = time.time() - start_time\n",
    "print('Preprocessing completed in {:.0f}m {:.0f}s'.format(time_elapsed // 60, time_elapsed % 60))"
   ]
  },
  {
   "cell_type": "code",
   "execution_count": 8,
   "id": "188a60cc-2a47-4360-adc2-651df47b7d4c",
   "metadata": {},
   "outputs": [],
   "source": [
    "# TODO:\n",
    "# 1) create a separate preprocessing notebook where one big tile gets transformed and plotted for verification of transformations\n",
    "# 2) plot mask on image (example in snippets)"
   ]
  },
  {
   "cell_type": "code",
   "execution_count": 9,
   "id": "a603be9d-e3b3-44d7-981d-75952d343eb2",
   "metadata": {},
   "outputs": [],
   "source": [
    "# NOTES:\n",
    "# labels can only be applied at SlideData object creation at the beginning, I did not find way to modify it later (tried with setattr etc)\n",
    "# Try albumentations: it applies random transformations like 90 degree rotations etc \n",
    "# https://albumentations.ai/ & https://pathml.readthedocs.io/en/latest/examples/link_train_hovernet.html#Data-augmentation"
   ]
  }
 ],
 "metadata": {
  "kernelspec": {
   "display_name": "pathml",
   "language": "python",
   "name": "python3"
  },
  "language_info": {
   "codemirror_mode": {
    "name": "ipython",
    "version": 3
   },
   "file_extension": ".py",
   "mimetype": "text/x-python",
   "name": "python",
   "nbconvert_exporter": "python",
   "pygments_lexer": "ipython3",
   "version": "3.9.18"
  }
 },
 "nbformat": 4,
 "nbformat_minor": 5
}
