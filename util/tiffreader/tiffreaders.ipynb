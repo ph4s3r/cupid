{
 "cells": [
  {
   "cell_type": "code",
   "execution_count": 1,
   "metadata": {},
   "outputs": [],
   "source": [
    "## https://www.kaggle.com/code/yassinealouini/working-with-tiff-files\n",
    "import time\n",
    "placenta655 = \"G:\\placenta2\\wsi\\elso.tiff\"\n",
    "e412 = \"G:\\\\wsi\\41.tif\"\n",
    "\n"
   ]
  },
  {
   "cell_type": "code",
   "execution_count": null,
   "metadata": {},
   "outputs": [],
   "source": [
    "# numpy\n",
    "import numpy as np\n",
    "\n",
    "start_time = time.time()\n",
    "\n",
    "# this does not work, what Image is??\n",
    "np.array(np.Image.open(placenta655))\n",
    "\n",
    "time_elapsed = time.time() - start_time\n",
    "print('tiff opened in {:.0f}m {:.0f}s'.format(time_elapsed // 60, time_elapsed % 60))"
   ]
  },
  {
   "cell_type": "code",
   "execution_count": null,
   "metadata": {},
   "outputs": [],
   "source": [
    "# rasterio - okay for s, but never loads the new big file / OOM\n",
    "from torchvision.transforms import ToTensor\n",
    "import rasterio\n",
    "from rasterio.plot import show\n",
    "import numpy as np\n",
    "\n",
    "with rasterio.open(e412) as image:\n",
    "    image_array = image.read()\n",
    "   \n",
    "torch_image = ToTensor()(image_array)\n",
    "print(torch_image.shape)\n",
    "\n",
    "stats = []\n",
    "\n",
    "for band in image_array:\n",
    "    stats.append({\n",
    "    'min': band.min(),\n",
    "    'mean': band.mean(),\n",
    "    'median': np.median(band),\n",
    "    'max': band.max()})\n",
    "\n",
    "print(stats)\n",
    "\n",
    "show(image_array)"
   ]
  },
  {
   "cell_type": "code",
   "execution_count": 3,
   "metadata": {},
   "outputs": [
    {
     "name": "stderr",
     "output_type": "stream",
     "text": [
      "<tifffile.TiffFile '41.tif'> BIF series tiles are not stiched\n"
     ]
    },
    {
     "name": "stdout",
     "output_type": "stream",
     "text": [
      "shape:  (102400, 51200, 3)\n"
     ]
    },
    {
     "ename": "AttributeError",
     "evalue": "'str' object has no attribute 'image'",
     "output_type": "error",
     "traceback": [
      "\u001b[1;31m---------------------------------------------------------------------------\u001b[0m",
      "\u001b[1;31mAttributeError\u001b[0m                            Traceback (most recent call last)",
      "Cell \u001b[1;32mIn[3], line 8\u001b[0m\n\u001b[0;32m      6\u001b[0m image \u001b[38;5;241m=\u001b[39m imread(e412)\n\u001b[0;32m      7\u001b[0m \u001b[38;5;28mprint\u001b[39m(\u001b[38;5;124m\"\u001b[39m\u001b[38;5;124mshape: \u001b[39m\u001b[38;5;124m\"\u001b[39m,image\u001b[38;5;241m.\u001b[39mshape)\n\u001b[1;32m----> 8\u001b[0m \u001b[38;5;28mprint\u001b[39m(\u001b[38;5;124;43m\"\u001b[39;49m\u001b[38;5;124;43mdtype: \u001b[39;49m\u001b[38;5;124;43m\"\u001b[39;49m\u001b[38;5;241;43m.\u001b[39;49m\u001b[43mimage\u001b[49m\u001b[38;5;241m.\u001b[39mdtype)\n\u001b[0;32m     10\u001b[0m \u001b[38;5;66;03m#try to get out channel names as well\u001b[39;00m\n\u001b[0;32m     11\u001b[0m \u001b[38;5;28;01mwith\u001b[39;00m TiffFile(e412) \u001b[38;5;28;01mas\u001b[39;00m tif:\n",
      "\u001b[1;31mAttributeError\u001b[0m: 'str' object has no attribute 'image'"
     ]
    }
   ],
   "source": [
    "# opens the big file as well!\n",
    "\n",
    "from xml.etree import ElementTree\n",
    "from tifffile import TiffFile, imread\n",
    "\n",
    "image = imread(e412)\n",
    "print(\"shape: \",image.shape)\n",
    "print(\"dtype: \".image.dtype)\n",
    "\n",
    "#try to get out channel names as well\n",
    "with TiffFile(e412) as tif:\n",
    "    for serie in tif.series:\n",
    "        print(serie.page.name)\n"
   ]
  }
 ],
 "metadata": {
  "kernelspec": {
   "display_name": "pathml",
   "language": "python",
   "name": "pathml"
  },
  "language_info": {
   "codemirror_mode": {
    "name": "ipython",
    "version": 3
   },
   "file_extension": ".py",
   "mimetype": "text/x-python",
   "name": "python",
   "nbconvert_exporter": "python",
   "pygments_lexer": "ipython3",
   "version": "3.9.18"
  }
 },
 "nbformat": 4,
 "nbformat_minor": 2
}
