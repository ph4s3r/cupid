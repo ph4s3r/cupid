{
 "cells": [
  {
   "cell_type": "code",
   "execution_count": 1,
   "metadata": {},
   "outputs": [],
   "source": [
    "import atom_CUDA\n",
    "\n",
    "from pathml import types\n",
    "from pathml.core import SlideData\n",
    "from pathlib import Path\n",
    "import matplotlib.pyplot as plt\n",
    "import numpy as np\n",
    "import time\n",
    "\n",
    "# set working directory\n",
    "base_dir = Path(\"G:\\echinov3\")\n",
    "# wsi folder\n",
    "wsi_subfolder = \"wsi\"\n",
    "# place geojsons into this folder inside base with same name as the image (echino23.tiff / echino38.gejson)\n",
    "geojson_subfolder = \"geojson\"\n",
    "# writing the masks as numpy arrays here\n",
    "numpy_mask_subfolder = \"wsiannotation-dumps\"\n",
    "\n",
    "data_dir = base_dir / Path(wsi_subfolder)               # input\n",
    "geojson_dir = base_dir / Path(geojson_subfolder)        # input \n",
    "numpy_mask_dir = base_dir / Path(numpy_mask_subfolder)  # output\n",
    "\n",
    "# read wsi files\n",
    "wsi_paths = list(data_dir.glob(\"*.tif\"))\n",
    "for wsi in wsi_paths:\n",
    "    filename = wsi.stem\n",
    "    geojson_file = f\"{geojson_dir}\\{filename}.geojson\"\n",
    "    slide = SlideData(wsi.as_posix(), name = wsi.as_posix(), backend = \"openslide\",  slide_type = types.HE)\n",
    "\n",
    "    start_time = time.time()\n",
    "    mask_array = atom_CUDA.annotationToMask(slide.shape, slide.name, geojson_file)\n",
    "\n",
    "    time_elapsed = time.time() - start_time\n",
    "    print(f\"Creating mask_array for {geojson_file} took {time_elapsed} s\")\n",
    "\n",
    "    np.save(f\"{str(numpy_mask_dir)}\\{filename}\", mask_array, allow_pickle=True)\n",
    "    print(f\"wrote annotation mask to disk G:\\echinov3\\wsiannotation-dumps\\{filename}\")"
   ]
  },
  {
   "cell_type": "code",
   "execution_count": null,
   "metadata": {},
   "outputs": [],
   "source": [
    "# plotting wsi\n",
    "_, axs = plt.subplots(figsize=(2, 2))\n",
    "slide.plot(ax=axs)\n",
    "x_limits = axs.get_xlim()\n",
    "y_limits = axs.get_ylim()\n",
    "\n",
    "# plotting mask on wsi\n",
    "axs.imshow(mask_array, cmap='plasma', alpha=0.2, extent=(x_limits[0], x_limits[1], y_limits[0], y_limits[1]))\n",
    "axs.set_title(label=f\"{slide.name.split('/')[-1]} + annotation mask in yellow\" , fontsize=8)"
   ]
  }
 ],
 "metadata": {
  "kernelspec": {
   "display_name": "pathml",
   "language": "python",
   "name": "python3"
  },
  "language_info": {
   "codemirror_mode": {
    "name": "ipython",
    "version": 3
   },
   "file_extension": ".py",
   "mimetype": "text/x-python",
   "name": "python",
   "nbconvert_exporter": "python",
   "pygments_lexer": "ipython3",
   "version": "3.9.18"
  }
 },
 "nbformat": 4,
 "nbformat_minor": 2
}
