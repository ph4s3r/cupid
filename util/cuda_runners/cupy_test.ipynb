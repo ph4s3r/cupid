{
 "cells": [
  {
   "cell_type": "code",
   "execution_count": 1,
   "metadata": {},
   "outputs": [
    {
     "name": "stderr",
     "output_type": "stream",
     "text": [
      "c:\\Users\\mazsolamacko\\anaconda3\\envs\\pathml\\lib\\site-packages\\cupy\\_environment.py:216: UserWarning: CUDA path could not be detected. Set CUDA_PATH environment variable if CuPy fails to load.\n",
      "  warnings.warn(\n"
     ]
    },
    {
     "ename": "ImportError",
     "evalue": "\n================================================================\nFailed to import CuPy.\n\nIf you installed CuPy via wheels (cupy-cudaXXX or cupy-rocm-X-X), make sure that the package matches with the version of CUDA or ROCm installed.\n\nOn Linux, you may need to set LD_LIBRARY_PATH environment variable depending on how you installed CUDA/ROCm.\nOn Windows, try setting CUDA_PATH environment variable.\n\nCheck the Installation Guide for details:\n  https://docs.cupy.dev/en/latest/install.html\n\nCUDA Path: None\nDLL dependencies:\n  KERNEL32.dll -> C:\\WINDOWS\\System32\\KERNEL32.DLL\n  MSVCP140.dll -> c:\\Users\\mazsolamacko\\anaconda3\\envs\\pathml\\MSVCP140.dll\n  VCRUNTIME140.dll -> c:\\Users\\mazsolamacko\\anaconda3\\envs\\pathml\\VCRUNTIME140.dll\n  VCRUNTIME140_1.dll -> c:\\Users\\mazsolamacko\\anaconda3\\envs\\pathml\\VCRUNTIME140_1.dll\n  api-ms-win-crt-convert-l1-1-0.dll -> C:\\WINDOWS\\System32\\ucrtbase.dll\n  api-ms-win-crt-environment-l1-1-0.dll -> C:\\WINDOWS\\System32\\ucrtbase.dll\n  api-ms-win-crt-filesystem-l1-1-0.dll -> C:\\WINDOWS\\System32\\ucrtbase.dll\n  api-ms-win-crt-heap-l1-1-0.dll -> C:\\WINDOWS\\System32\\ucrtbase.dll\n  api-ms-win-crt-runtime-l1-1-0.dll -> C:\\WINDOWS\\System32\\ucrtbase.dll\n  api-ms-win-crt-stdio-l1-1-0.dll -> C:\\WINDOWS\\System32\\ucrtbase.dll\n  cublas64_12.dll -> not found\n  cudart64_12.dll -> not found\n  cufft64_11.dll -> not found\n  curand64_10.dll -> c:\\Users\\mazsolamacko\\anaconda3\\envs\\pathml\\Library\\bin\\curand64_10.dll\n  cusolver64_11.dll -> c:\\Users\\mazsolamacko\\anaconda3\\envs\\pathml\\Library\\bin\\cusolver64_11.dll\n  cusparse64_12.dll -> not found\n  nvcuda.dll -> C:\\WINDOWS\\SYSTEM32\\nvcuda.dll\n  nvrtc64_120_0.dll -> not found\n  python39.dll -> c:\\Users\\mazsolamacko\\anaconda3\\envs\\pathml\\python39.dll\n\nOriginal error:\n  ImportError: DLL load failed while importing runtime: The specified module could not be found.\n================================================================\n",
     "output_type": "error",
     "traceback": [
      "\u001b[1;31m---------------------------------------------------------------------------\u001b[0m",
      "\u001b[1;31mImportError\u001b[0m                               Traceback (most recent call last)",
      "File \u001b[1;32mc:\\Users\\mazsolamacko\\anaconda3\\envs\\pathml\\lib\\site-packages\\cupy\\__init__.py:17\u001b[0m\n\u001b[0;32m     16\u001b[0m \u001b[39mtry\u001b[39;00m:\n\u001b[1;32m---> 17\u001b[0m     \u001b[39mfrom\u001b[39;00m \u001b[39mcupy\u001b[39;00m \u001b[39mimport\u001b[39;00m _core  \u001b[39m# NOQA\u001b[39;00m\n\u001b[0;32m     18\u001b[0m \u001b[39mexcept\u001b[39;00m \u001b[39mImportError\u001b[39;00m \u001b[39mas\u001b[39;00m exc:\n",
      "File \u001b[1;32mc:\\Users\\mazsolamacko\\anaconda3\\envs\\pathml\\lib\\site-packages\\cupy\\_core\\__init__.py:3\u001b[0m\n\u001b[0;32m      1\u001b[0m \u001b[39m# mypy: ignore-errors\u001b[39;00m\n\u001b[1;32m----> 3\u001b[0m \u001b[39mfrom\u001b[39;00m \u001b[39mcupy\u001b[39;00m\u001b[39m.\u001b[39;00m\u001b[39m_core\u001b[39;00m \u001b[39mimport\u001b[39;00m core  \u001b[39m# NOQA\u001b[39;00m\n\u001b[0;32m      4\u001b[0m \u001b[39mfrom\u001b[39;00m \u001b[39mcupy\u001b[39;00m\u001b[39m.\u001b[39;00m\u001b[39m_core\u001b[39;00m \u001b[39mimport\u001b[39;00m fusion  \u001b[39m# NOQA\u001b[39;00m\n",
      "File \u001b[1;32mcupy\\_core\\core.pyx:1\u001b[0m, in \u001b[0;36minit cupy._core.core\u001b[1;34m()\u001b[0m\n",
      "File \u001b[1;32mc:\\Users\\mazsolamacko\\anaconda3\\envs\\pathml\\lib\\site-packages\\cupy\\cuda\\__init__.py:8\u001b[0m\n\u001b[0;32m      7\u001b[0m \u001b[39mfrom\u001b[39;00m \u001b[39mcupy\u001b[39;00m\u001b[39m.\u001b[39;00m\u001b[39m_environment\u001b[39;00m \u001b[39mimport\u001b[39;00m get_hipcc_path  \u001b[39m# NOQA\u001b[39;00m\n\u001b[1;32m----> 8\u001b[0m \u001b[39mfrom\u001b[39;00m \u001b[39mcupy\u001b[39;00m\u001b[39m.\u001b[39;00m\u001b[39mcuda\u001b[39;00m \u001b[39mimport\u001b[39;00m compiler  \u001b[39m# NOQA\u001b[39;00m\n\u001b[0;32m      9\u001b[0m \u001b[39mfrom\u001b[39;00m \u001b[39mcupy\u001b[39;00m\u001b[39m.\u001b[39;00m\u001b[39mcuda\u001b[39;00m \u001b[39mimport\u001b[39;00m device  \u001b[39m# NOQA\u001b[39;00m\n",
      "File \u001b[1;32mc:\\Users\\mazsolamacko\\anaconda3\\envs\\pathml\\lib\\site-packages\\cupy\\cuda\\compiler.py:13\u001b[0m\n\u001b[0;32m     11\u001b[0m \u001b[39mimport\u001b[39;00m \u001b[39mwarnings\u001b[39;00m\n\u001b[1;32m---> 13\u001b[0m \u001b[39mfrom\u001b[39;00m \u001b[39mcupy\u001b[39;00m\u001b[39m.\u001b[39;00m\u001b[39mcuda\u001b[39;00m \u001b[39mimport\u001b[39;00m device\n\u001b[0;32m     14\u001b[0m \u001b[39mfrom\u001b[39;00m \u001b[39mcupy\u001b[39;00m\u001b[39m.\u001b[39;00m\u001b[39mcuda\u001b[39;00m \u001b[39mimport\u001b[39;00m function\n",
      "File \u001b[1;32mcupy\\cuda\\device.pyx:1\u001b[0m, in \u001b[0;36minit cupy.cuda.device\u001b[1;34m()\u001b[0m\n",
      "\u001b[1;31mImportError\u001b[0m: DLL load failed while importing runtime: The specified module could not be found.",
      "\nThe above exception was the direct cause of the following exception:\n",
      "\u001b[1;31mImportError\u001b[0m                               Traceback (most recent call last)",
      "\u001b[1;32mg:\\pathml-preprocessing\\cupy_test.ipynb Cell 1\u001b[0m line \u001b[0;36m1\n\u001b[1;32m----> <a href='vscode-notebook-cell:/g%3A/pathml-preprocessing/cupy_test.ipynb#W0sZmlsZQ%3D%3D?line=0'>1</a>\u001b[0m \u001b[39mimport\u001b[39;00m \u001b[39mcupy\u001b[39;00m \u001b[39mas\u001b[39;00m \u001b[39mcp\u001b[39;00m\n\u001b[0;32m      <a href='vscode-notebook-cell:/g%3A/pathml-preprocessing/cupy_test.ipynb#W0sZmlsZQ%3D%3D?line=2'>3</a>\u001b[0m \u001b[39m# Create two arrays in GPU memory\u001b[39;00m\n\u001b[0;32m      <a href='vscode-notebook-cell:/g%3A/pathml-preprocessing/cupy_test.ipynb#W0sZmlsZQ%3D%3D?line=3'>4</a>\u001b[0m x_gpu \u001b[39m=\u001b[39m cp\u001b[39m.\u001b[39marray([\u001b[39m1\u001b[39m, \u001b[39m2\u001b[39m, \u001b[39m3\u001b[39m])\n",
      "File \u001b[1;32mc:\\Users\\mazsolamacko\\anaconda3\\envs\\pathml\\lib\\site-packages\\cupy\\__init__.py:19\u001b[0m\n\u001b[0;32m     17\u001b[0m     \u001b[39mfrom\u001b[39;00m \u001b[39mcupy\u001b[39;00m \u001b[39mimport\u001b[39;00m _core  \u001b[39m# NOQA\u001b[39;00m\n\u001b[0;32m     18\u001b[0m \u001b[39mexcept\u001b[39;00m \u001b[39mImportError\u001b[39;00m \u001b[39mas\u001b[39;00m exc:\n\u001b[1;32m---> 19\u001b[0m     \u001b[39mraise\u001b[39;00m \u001b[39mImportError\u001b[39;00m(\u001b[39mf\u001b[39m\u001b[39m'''\u001b[39m\n\u001b[0;32m     20\u001b[0m \u001b[39m================================================================\u001b[39m\n\u001b[0;32m     21\u001b[0m \u001b[39m{\u001b[39;00m_environment\u001b[39m.\u001b[39m_diagnose_import_error()\u001b[39m}\u001b[39;00m\n\u001b[0;32m     22\u001b[0m \n\u001b[0;32m     23\u001b[0m \u001b[39mOriginal error:\u001b[39m\n\u001b[0;32m     24\u001b[0m \u001b[39m  \u001b[39m\u001b[39m{\u001b[39;00m\u001b[39mtype\u001b[39m(exc)\u001b[39m.\u001b[39m\u001b[39m__name__\u001b[39m\u001b[39m}\u001b[39;00m\u001b[39m: \u001b[39m\u001b[39m{\u001b[39;00mexc\u001b[39m}\u001b[39;00m\n\u001b[0;32m     25\u001b[0m \u001b[39m================================================================\u001b[39m\n\u001b[0;32m     26\u001b[0m \u001b[39m'''\u001b[39m) \u001b[39mfrom\u001b[39;00m \u001b[39mexc\u001b[39;00m\n\u001b[0;32m     29\u001b[0m \u001b[39mfrom\u001b[39;00m \u001b[39mcupy\u001b[39;00m \u001b[39mimport\u001b[39;00m cuda  \u001b[39m# NOQA\u001b[39;00m\n\u001b[0;32m     30\u001b[0m \u001b[39m# Do not make `cupy.cupyx` available because it is confusing.\u001b[39;00m\n",
      "\u001b[1;31mImportError\u001b[0m: \n================================================================\nFailed to import CuPy.\n\nIf you installed CuPy via wheels (cupy-cudaXXX or cupy-rocm-X-X), make sure that the package matches with the version of CUDA or ROCm installed.\n\nOn Linux, you may need to set LD_LIBRARY_PATH environment variable depending on how you installed CUDA/ROCm.\nOn Windows, try setting CUDA_PATH environment variable.\n\nCheck the Installation Guide for details:\n  https://docs.cupy.dev/en/latest/install.html\n\nCUDA Path: None\nDLL dependencies:\n  KERNEL32.dll -> C:\\WINDOWS\\System32\\KERNEL32.DLL\n  MSVCP140.dll -> c:\\Users\\mazsolamacko\\anaconda3\\envs\\pathml\\MSVCP140.dll\n  VCRUNTIME140.dll -> c:\\Users\\mazsolamacko\\anaconda3\\envs\\pathml\\VCRUNTIME140.dll\n  VCRUNTIME140_1.dll -> c:\\Users\\mazsolamacko\\anaconda3\\envs\\pathml\\VCRUNTIME140_1.dll\n  api-ms-win-crt-convert-l1-1-0.dll -> C:\\WINDOWS\\System32\\ucrtbase.dll\n  api-ms-win-crt-environment-l1-1-0.dll -> C:\\WINDOWS\\System32\\ucrtbase.dll\n  api-ms-win-crt-filesystem-l1-1-0.dll -> C:\\WINDOWS\\System32\\ucrtbase.dll\n  api-ms-win-crt-heap-l1-1-0.dll -> C:\\WINDOWS\\System32\\ucrtbase.dll\n  api-ms-win-crt-runtime-l1-1-0.dll -> C:\\WINDOWS\\System32\\ucrtbase.dll\n  api-ms-win-crt-stdio-l1-1-0.dll -> C:\\WINDOWS\\System32\\ucrtbase.dll\n  cublas64_12.dll -> not found\n  cudart64_12.dll -> not found\n  cufft64_11.dll -> not found\n  curand64_10.dll -> c:\\Users\\mazsolamacko\\anaconda3\\envs\\pathml\\Library\\bin\\curand64_10.dll\n  cusolver64_11.dll -> c:\\Users\\mazsolamacko\\anaconda3\\envs\\pathml\\Library\\bin\\cusolver64_11.dll\n  cusparse64_12.dll -> not found\n  nvcuda.dll -> C:\\WINDOWS\\SYSTEM32\\nvcuda.dll\n  nvrtc64_120_0.dll -> not found\n  python39.dll -> c:\\Users\\mazsolamacko\\anaconda3\\envs\\pathml\\python39.dll\n\nOriginal error:\n  ImportError: DLL load failed while importing runtime: The specified module could not be found.\n================================================================\n"
     ]
    }
   ],
   "source": []
  }
 ],
 "metadata": {
  "kernelspec": {
   "display_name": "pathml",
   "language": "python",
   "name": "python3"
  },
  "language_info": {
   "codemirror_mode": {
    "name": "ipython",
    "version": 3
   },
   "file_extension": ".py",
   "mimetype": "text/x-python",
   "name": "python",
   "nbconvert_exporter": "python",
   "pygments_lexer": "ipython3",
   "version": "3.9.18"
  }
 },
 "nbformat": 4,
 "nbformat_minor": 2
}
