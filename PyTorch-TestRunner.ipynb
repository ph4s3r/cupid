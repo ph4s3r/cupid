{
 "cells": [
  {
   "cell_type": "code",
   "execution_count": 2,
   "metadata": {},
   "outputs": [
    {
     "name": "stdout",
     "output_type": "stream",
     "text": [
      "pcam_test_dataset len:  32768\n"
     ]
    },
    {
     "name": "stderr",
     "output_type": "stream",
     "text": [
      "Using cache found in C:\\Users\\mazsolamacko/.cache\\torch\\hub\\moskomule_senet.pytorch_master\n"
     ]
    },
    {
     "name": "stdout",
     "output_type": "stream",
     "text": [
      "Accuracy: 80.30%\n"
     ]
    }
   ],
   "source": [
    "import lib\n",
    "from torchvision.datasets import PCAM\n",
    "from torchvision.transforms import v2\n",
    "from torch.utils.data import DataLoader\n",
    "from torch import float32\n",
    "from torch.hub import load\n",
    "\n",
    "# convert to tensor\n",
    "transforms = v2.Compose(\n",
    "    [\n",
    "        v2.ToImage(),\n",
    "        v2.ToDtype(float32, scale=True),\n",
    "    ]\n",
    ")\n",
    "\n",
    "# (down)load\n",
    "pcam_test_dataset = PCAM(\n",
    "    root=\"G:\\\\pcam\\\\\", transform=transforms, split=\"test\", download=True\n",
    ")\n",
    "print(\"pcam_test_dataset len: \", len(pcam_test_dataset))\n",
    "\n",
    "test_loader = DataLoader(pcam_test_dataset, batch_size=16, shuffle=True, num_workers=0)\n",
    "\n",
    "model = load(\n",
    "    'moskomule/senet.pytorch',\n",
    "    'se_resnet50'\n",
    ")\n",
    "\n",
    "# run\n",
    "lib.test_model(\n",
    "    test_loader, \"G:\\\\pcam\\\\training_checkpoints\\\\senet-5stop.ckpt\", \"cuda\", model\n",
    ")"
   ]
  }
 ],
 "metadata": {
  "kernelspec": {
   "display_name": "pathml",
   "language": "python",
   "name": "pathml"
  },
  "language_info": {
   "codemirror_mode": {
    "name": "ipython",
    "version": 3
   },
   "file_extension": ".py",
   "mimetype": "text/x-python",
   "name": "python",
   "nbconvert_exporter": "python",
   "pygments_lexer": "ipython3",
   "version": "3.9.18"
  }
 },
 "nbformat": 4,
 "nbformat_minor": 2
}
