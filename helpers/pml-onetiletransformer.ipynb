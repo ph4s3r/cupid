{
 "cells": [
  {
   "cell_type": "code",
   "execution_count": null,
   "id": "b6043a56-50da-4ab5-9473-9191a7d57f99",
   "metadata": {},
   "outputs": [],
   "source": [
    "from pathml.core import HESlide, Tile, types\n",
    "from pathml.preprocessing import BaseTransform\n",
    "import matplotlib.pyplot as plt\n",
    "from pathml.preprocessing import Pipeline, TissueDetectionHE\n",
    "from pathml.utils import plot_mask, RGB_to_GREY\n",
    "from pathml.preprocessing import (\n",
    "    BoxBlur, GaussianBlur, MedianBlur,\n",
    "    NucleusDetectionHE, StainNormalizationHE, SuperpixelInterpolation,\n",
    "    ForegroundDetection, TissueDetectionHE, BinaryThreshold,\n",
    "    MorphClose, MorphOpen\n",
    ")\n",
    "\n",
    "class ConvertToRGB(BaseTransform):\n",
    "    def apply(self, tile):\n",
    "        if len(tile.image.shape) == 2 or (tile.image.shape[2] == 1):\n",
    "            # Convert grayscale to RGB\n",
    "            tile.image = cv2.cvtColor(tile.image, cv2.COLOR_GRAY2RGB)\n",
    "\n",
    "            \n",
    "fontsize = 14\n",
    "\n",
    "wsi = HESlide(\"/home/pathml/wsi/normal4.tif\")\n",
    "\n",
    "print(wsi)\n",
    "\n",
    "region = wsi.slide.extract_region(location = (0, 0), size = (15360, 12800))\n",
    "\n",
    "# reshape the region from 5dim to 3 / got all kinds of errors like TypeError: Invalid shape (3685, 1251, 1, 3, 1) for image data, also openCV complains about not finding the chanels\n",
    "region = region[:, :, 0, :, 0]\n",
    "\n",
    "# https://pathml.readthedocs.io/en/latest/api_core_reference.html#tile\n",
    "# region needs to be of np.ndarray type\n",
    "# what converts the image to np.ndarray type is the extract_region function:\n",
    "# https://pathml.readthedocs.io/en/latest/api_core_reference.html#pathml.core.SlideData.extract_region\n",
    "\n",
    "bigtile = Tile(region, coords = (0, 0), name = \"testregion\", slide_type = types.HE)\n",
    "\n",
    "# Define a preprocessing pipeline\n",
    "pipeline = Pipeline([\n",
    "    ConvertToRGB(),\n",
    "    TissueDetectionHE(mask_name=\"tissue\", outer_contours_only=True),\n",
    "])\n",
    "\n",
    "# Run the preprocessing pipeline on each slide in the dataset\n",
    "wsi.run(pipeline)"
   ]
  },
  {
   "cell_type": "code",
   "execution_count": null,
   "id": "e6529997-70e1-429c-a9ce-0a7393185f36",
   "metadata": {},
   "outputs": [],
   "source": []
  }
 ],
 "metadata": {
  "kernelspec": {
   "display_name": "Python 3 (ipykernel)",
   "language": "python",
   "name": "python3"
  },
  "language_info": {
   "codemirror_mode": {
    "name": "ipython",
    "version": 3
   },
   "file_extension": ".py",
   "mimetype": "text/x-python",
   "name": "python",
   "nbconvert_exporter": "python",
   "pygments_lexer": "ipython3",
   "version": "3.8.10"
  }
 },
 "nbformat": 4,
 "nbformat_minor": 5
}
