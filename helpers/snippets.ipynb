{
 "cells": [
  {
   "cell_type": "code",
   "execution_count": null,
   "id": "785d5a0a-d7bb-43dd-be9c-a0a0f1756016",
   "metadata": {},
   "outputs": [],
   "source": [
    "# linux prereq: export LD_PRELOAD=/usr/lib/x86_64-linux-gnu/libffi.so.7"
   ]
  },
  {
   "cell_type": "code",
   "execution_count": null,
   "id": "a87509dd-539e-4d0a-926a-a63306b97e3b",
   "metadata": {},
   "outputs": [],
   "source": [
    "# Parallel processing: does not work...\n",
    "\n",
    "# from dask_cuda import LocalCUDACluster\n",
    "# from dask.distributed import LocalCluster, Client\n",
    "\n",
    "# cluster = LocalCluster()\n",
    "# cluster = LocalCUDACluster()\n",
    "# client = Client(cluster)\n",
    "# can check dask dashboard on localhost:8787 (https://distributed.dask.org/en/latest/api.html#distributed.LocalCluster)\n",
    "\n",
    "\n"
   ]
  },
  {
   "cell_type": "code",
   "execution_count": null,
   "id": "aa861356-d099-4fa3-ad81-bb03631a78e8",
   "metadata": {},
   "outputs": [],
   "source": [
    "# This is a profiler\n",
    "\n",
    "import cProfile\n",
    "import pstats\n",
    " \n",
    "from pathml.core import HESlide\n",
    " \n",
    "%matplotlib inline\n",
    " \n",
    "wsi = HESlide(\"../data/CMU-1.svs\", name = \"example\")\n",
    " \n",
    "from pathml.preprocessing import Pipeline, BoxBlur, TissueDetectionHE\n",
    " \n",
    "pipeline = Pipeline([\n",
    "    BoxBlur(kernel_size=15),\n",
    "    TissueDetectionHE(mask_name = \"tissue\", min_region_size=500, \n",
    "                      threshold=30, outer_contours_only=True)\n",
    "])\n",
    " \n",
    "from dask.distributed import Client, LocalCluster\n",
    " \n",
    "cluster = LocalCluster(n_workers=6)\n",
    "client = Client(cluster)\n",
    " \n",
    "print(client)\n",
    "#run cProfile for parallel pipeline\n",
    "cProfile.run('wsi.run(pipeline, distributed=True, client=client')\n",
    " \n",
    "#save results into profile results file with pstats and remove extraneous path from module names, sort by#name\n",
    "p = pstats.Stats('profile_stats')\n",
    "p.strip_dirs().sort_stats(-1).print_stats()\n",
    " \n",
    "# sort profile by cumulative time in a function and print 10 most significant lines\n",
    "# p.sort_stats(SortKey.cumulative.print_stats(10))"
   ]
  },
  {
   "cell_type": "code",
   "execution_count": null,
   "id": "7f1786e4-ed80-4dc5-a954-5ad46dc1f788",
   "metadata": {},
   "outputs": [],
   "source": [
    "# snippet to add annotations to h5 files\n",
    "# h5_manager = h5managers.h5pathManager(slidedata=slide)\n",
    "# mask_key = \"tumor\"\n",
    "# h5_manager.add_mask(key=mask_key, mask=mask_array)"
   ]
  },
  {
   "cell_type": "code",
   "execution_count": null,
   "metadata": {},
   "outputs": [],
   "source": [
    "# # save SlideData objects (as per doc slide-level masks are not saved, compared to pipeline level write, although filesize is the same...)\n",
    "# # https://pathml.readthedocs.io/en/latest/api_core_reference.html#pathml.core.SlideDataset.write\n",
    "# print(f\"Writing slidedata objects to {str(slide_dir)}\")\n",
    "# for slide in slide_dataset:\n",
    "#     slide.write(slide_dir/Path(slide.name.split(\"/\")[-1].split(\".\")[0]+\".h5path\")) \n",
    "# print(\"Done\")"
   ]
  }
 ],
 "metadata": {
  "kernelspec": {
   "display_name": "Python 3 (ipykernel)",
   "language": "python",
   "name": "python3"
  },
  "language_info": {
   "codemirror_mode": {
    "name": "ipython",
    "version": 3
   },
   "file_extension": ".py",
   "mimetype": "text/x-python",
   "name": "python",
   "nbconvert_exporter": "python",
   "pygments_lexer": "ipython3",
   "version": "3.8.18"
  }
 },
 "nbformat": 4,
 "nbformat_minor": 5
}
