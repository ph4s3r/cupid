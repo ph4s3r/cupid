{
 "cells": [
  {
   "cell_type": "code",
   "execution_count": 1,
   "metadata": {},
   "outputs": [
    {
     "name": "stdout",
     "output_type": "stream",
     "text": [
      "Read 1 wsi images: \n"
     ]
    },
    {
     "data": {
      "image/png": "[encoded data removed]",
      "text/plain": [
       "<Figure size 200x200 with 1 Axes>"
      ]
     },
     "metadata": {},
     "output_type": "display_data"
    }
   ],
   "source": [
    "##########################################################################################################\n",
    "# Author: Mihaly Sulyok & Peter Karacsonyi                                                               #\n",
    "# Last updated: 2023 Dec 10                                                                              #\n",
    "# This workbook does wsi preprocessing with Pathml version 2.1.1                                         #\n",
    "# Input: wsi image files, tested with OpenSlide .tif                                                     #\n",
    "# Transformations: MedianBlur, BinaryThreshold, Tiling, MorphOpen, MorphClose, ForegroundDetection       #\n",
    "# Read more on transformations: https://pathml.readthedocs.io/en/latest/examples/link_gallery.html       #\n",
    "# Output: h5path files (https://pathml.readthedocs.io/en/latest/h5path.html)                             #\n",
    "##########################################################################################################\n",
    "\n",
    "# local imports\n",
    "import os\n",
    "if os.name == 'nt':\n",
    "    import helpers.openslideimport #on windows, openslide needs to be installed manually, check local openslideimport.py\n",
    "\n",
    "# global imports\n",
    "import time\n",
    "from pathlib import Path\n",
    "import matplotlib.pyplot as plt\n",
    "\n",
    "# pathml imports\n",
    "from pathml import types\n",
    "from pathml.core import SlideData, SlideDataset\n",
    "from pathml.preprocessing import Pipeline, TissueDetectionHE\n",
    "\n",
    "\n",
    "#########\n",
    "# usage #\n",
    "#########\n",
    "\n",
    "#####################\n",
    "# configure folders #\n",
    "#####################\n",
    "\n",
    "# set working directory\n",
    "base_dir = Path(\"G:\\\\placenta\") # \"/mnt/g/xyz/\" for linux\n",
    "# wsi folder\n",
    "wsi_subfolder = \"wsi\"\n",
    "# place geojsons into this folder inside base with same name as the image (echino23.tiff / echino23.gejson)\n",
    "annotations_subfolder = \"annotations\"\n",
    "# output h5path files to (will be created)\n",
    "h5path_subfolder = \"h5\"\n",
    "# filenames having this substring with endpoint\n",
    "endpoint_filename = \"endpoint\"\n",
    "\n",
    "#######################################\n",
    "# configure transformation parameters #\n",
    "#######################################\n",
    "\n",
    "pipeline = Pipeline([\n",
    "    # values are the best found for placenta wsis\n",
    "    TissueDetectionHE(\n",
    "        mask_name = \"tissue\", \n",
    "        min_region_size=500,\n",
    "        outer_contours_only=False,\n",
    "        morph_n_iter=5,\n",
    "        morph_k_size=15,\n",
    "        drop_empty_tiles = False,\n",
    "        use_saturation = True\n",
    "    )\n",
    "])\n",
    "\n",
    "# relative directory generation (don't modify)\n",
    "data_dir = base_dir / Path(wsi_subfolder)                       # input\n",
    "h5_dir = base_dir / Path(h5path_subfolder)                      # output\n",
    "h5_dir.mkdir(0o644, parents=True, exist_ok=True)                # create if does not exist\n",
    "\n",
    "# read wsi files\n",
    "wsi_paths = list(data_dir.glob(\"*.tif*\"))\n",
    "wsi_list = []\n",
    "label = {}\n",
    "for wsi in wsi_paths:\n",
    "    # label preparation based on filename\n",
    "    if endpoint_filename in wsi.name.lower():\n",
    "        label[\"class\"] = 1\n",
    "    else: \n",
    "        label[\"class\"] = 0\n",
    "    label[\"wsi_name\"] = wsi.name.lower().split(\".\")[0]\n",
    "    # read them with openslide HE backend, add labels\n",
    "    wsi_list.append(\n",
    "        SlideData(\n",
    "            str(wsi), \n",
    "            name = str(wsi).split(\".\")[0], \n",
    "            backend = \"openslide\", \n",
    "            slide_type = types.HE,\n",
    "            labels = label,\n",
    "            tile_size = 500,\n",
    "            tile_level = 0\n",
    "        )\n",
    "    )\n",
    "\n",
    "slide_dataset = SlideDataset(wsi_list)\n",
    "\n",
    "# Draw the images\n",
    "print(f\"Read {len(slide_dataset)} wsi images: \")\n",
    "for slide in slide_dataset:\n",
    "    _, axs = plt.subplots(figsize=(2, 2))\n",
    "    slide.plot(ax=axs)\n",
    "    axs.set_title(label=slide.name, fontsize=8)"
   ]
  },
  {
   "cell_type": "code",
   "execution_count": 2,
   "metadata": {},
   "outputs": [
    {
     "name": "stdout",
     "output_type": "stream",
     "text": [
      "Total number of tiles extracted: 46368\n",
      "G:\\placenta\\h5\\20230810_151632ep.h5path\n",
      "Preprocessing completed in 95m 15s\n"
     ]
    }
   ],
   "source": [
    "# run preprocessing pipeline\n",
    "start_time = time.time()\n",
    "slide_dataset.run(\n",
    "    pipeline,\n",
    "    distributed=False, # windows OpenSlide DLL error can be fixed by importing into core.py\n",
    "    write_dir=str(h5_dir), # The write_dir is buggy: places h5path files to wsi folder\n",
    ")\n",
    "\n",
    "print(f\"Total number of tiles extracted: {sum(len(slide.tiles.keys) for slide in slide_dataset.slides)}\")\n",
    "\n",
    "# move h5path files to h5 dir\n",
    "h5_paths = list(data_dir.glob(\"*.h5path\"))\n",
    "for h5file in h5_paths:\n",
    "    h5file.replace(h5_dir/h5file.name); print(h5_dir/h5file.name)\n",
    "\n",
    "time_elapsed = time.time() - start_time\n",
    "print('Preprocessing completed in {:.0f}m {:.0f}s'.format(time_elapsed // 60, time_elapsed % 60))"
   ]
  }
 ],
 "metadata": {
  "kernelspec": {
   "display_name": "pathml",
   "language": "python",
   "name": "pathml"
  },
  "language_info": {
   "codemirror_mode": {
    "name": "ipython",
    "version": 3
   },
   "file_extension": ".py",
   "mimetype": "text/x-python",
   "name": "python",
   "nbconvert_exporter": "python",
   "pygments_lexer": "ipython3",
   "version": "3.9.18"
  }
 },
 "nbformat": 4,
 "nbformat_minor": 2
}
